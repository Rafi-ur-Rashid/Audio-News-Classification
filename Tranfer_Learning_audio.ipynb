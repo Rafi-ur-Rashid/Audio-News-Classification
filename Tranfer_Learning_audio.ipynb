{
  "nbformat": 4,
  "nbformat_minor": 0,
  "metadata": {
    "colab": {
      "name": "Tranfer_Learning_audio.ipynb",
      "private_outputs": true,
      "provenance": [],
      "collapsed_sections": [],
      "include_colab_link": true
    },
    "kernelspec": {
      "name": "python3",
      "display_name": "Python 3"
    }
  },
  "cells": [
    {
      "cell_type": "markdown",
      "metadata": {
        "id": "view-in-github",
        "colab_type": "text"
      },
      "source": [
        "<a href=\"https://colab.research.google.com/github/Rafi-ur-Rashid/Audio-News-Classification/blob/main/Tranfer_Learning_audio.ipynb\" target=\"_parent\"><img src=\"https://colab.research.google.com/assets/colab-badge.svg\" alt=\"Open In Colab\"/></a>"
      ]
    },
    {
      "cell_type": "code",
      "metadata": {
        "id": "UCLnCnCOyDeu"
      },
      "source": [
        "from google.colab import drive\n",
        "drive.mount('/content/drive')"
      ],
      "execution_count": null,
      "outputs": []
    },
    {
      "cell_type": "code",
      "metadata": {
        "id": "tFIljJ0PeG1v"
      },
      "source": [
        "import tensorflow as tf\n",
        "import os\n",
        "import librosa\n",
        "import librosa.display\n",
        "import IPython.display as ipd\n",
        "import numpy as np\n",
        "import sklearn\n",
        "import matplotlib.pyplot as plt\n",
        "import pickle\n",
        "from os import path\n",
        "from keras.callbacks import ModelCheckpoint\n",
        "\n",
        "import tensorflow.keras as keras\n",
        "from tensorflow.keras.utils import to_categorical\n",
        "\n",
        "from sklearn.utils import shuffle\n",
        "from sklearn.model_selection import train_test_split\n",
        "RANDOM_SEED=2245\n",
        "from numpy.random import seed\n",
        "seed(RANDOM_SEED)\n"
      ],
      "execution_count": null,
      "outputs": []
    },
    {
      "cell_type": "code",
      "metadata": {
        "id": "sZd72-L7PwD2"
      },
      "source": [
        "gpu_devices = tf.config.experimental.list_physical_devices(\"GPU\")\n",
        "for device in gpu_devices:\n",
        "    tf.config.experimental.set_memory_growth(device, True)"
      ],
      "execution_count": null,
      "outputs": []
    },
    {
      "cell_type": "code",
      "metadata": {
        "id": "-BtpnwzABUBK"
      },
      "source": [
        "corpus_path=r\"C:\\\\ML\\\\audio_news\\\\corpus\\\\\"\n",
        "preprocess_path=r\"C:\\\\ML\\\\audio_news\\\\preprocessed-shuffled\\\\\"\n",
        "mfcc_path=preprocess_path+r\"mfccs\\\\\"\n",
        "lables_path=preprocess_path+r\"lables\\\\\"\n",
        "mel_path=preprocess_path+r\"mel_specs\\\\\"\n",
        "weights_dir=\"C:\\\\ML\\\\audio_news\\\\weights\\\\\"\n",
        "\n"
      ],
      "execution_count": null,
      "outputs": []
    },
    {
      "cell_type": "code",
      "metadata": {
        "id": "tzdFY1X4zdQH"
      },
      "source": [
        "#drive\n",
        "mfcc_path=\"/content/drive/My Drive/Colab Notebooks/Audio classification/mfccs/\"              \n",
        "lables_path=\"/content/drive/My Drive/Colab Notebooks/Audio classification/lables/\"  "
      ],
      "execution_count": null,
      "outputs": []
    },
    {
      "cell_type": "code",
      "metadata": {
        "id": "IpxtuCvYYXQ3"
      },
      "source": [
        "X_train=pickle.load( open(mfcc_path+\"train_13_2048_512.pkl\",'rb'))\n",
        "y_train=pickle.load( open(lables_path+\"train.pkl\",'rb'))\n",
        "X_validation=pickle.load( open(mfcc_path+\"val_13_2048_512.pkl\",'rb'))\n",
        "y_validation=pickle.load( open(lables_path+\"val.pkl\",'rb'))\n",
        "#X_test=pickle.load( open(mfcc_path+\"test_13_2048_512.pkl\",'rb'))\n",
        "#y_test=pickle.load( open(lables_path+\"test.pkl\",'rb'))\n",
        "\n",
        "\n",
        "X_train=np.broadcast_to(X_train[..., np.newaxis], (X_train.shape[0], X_train.shape[1], X_train.shape[2], 3))\n",
        "X_validation=np.broadcast_to(X_validation[..., np.newaxis], (X_validation.shape[0], X_validation.shape[1], X_validation.shape[2], 3))\n",
        "#X_test=np.broadcast_to(X_test[..., np.newaxis], (X_test.shape[0], X_test.shape[1], X_test.shape[2], 3))\n"
      ],
      "execution_count": null,
      "outputs": []
    },
    {
      "cell_type": "markdown",
      "metadata": {
        "id": "RheKOFWt5OMR"
      },
      "source": [
        "#VGG16"
      ]
    },
    {
      "cell_type": "code",
      "metadata": {
        "id": "fzsxGGn3Zc3I"
      },
      "source": [
        "X_train=X_train.reshape(X_train.shape[0],int(X_train.shape[1]/4),int(X_train.shape[2]*4),X_train.shape[3])\n",
        "X_validation=X_validation.reshape(X_validation.shape[0],int(X_validation.shape[1]/4),int(X_validation.shape[2]*4),X_validation.shape[3])\n",
        "#X_test=X_test.reshape(X_test.shape[0],int(X_test.shape[1]/4),int(X_test.shape[2]*4),X_test.shape[3])\n",
        "\n",
        "input_shape = (X_train.shape[1], X_train.shape[2],  X_train.shape[3])\n",
        "\n",
        "VGG16_MODEL=tf.keras.applications.VGG16(input_shape=input_shape,\n",
        "                                               include_top=False,\n",
        "                                               weights='imagenet')\n",
        "VGG16_MODEL.trainable=False\n",
        "global_average_layer = tf.keras.layers.GlobalAveragePooling2D()\n",
        "prediction_layer = tf.keras.layers.Dense(5,activation='softmax')\n",
        "model = tf.keras.Sequential([\n",
        "  VGG16_MODEL,\n",
        "  global_average_layer,\n",
        "  prediction_layer\n",
        "])\n",
        "saved_model=\"vgg16_mfcc_13_2048_512.weights.hdf5\""
      ],
      "execution_count": null,
      "outputs": []
    },
    {
      "cell_type": "markdown",
      "metadata": {
        "id": "JNpmghBk5Rsg"
      },
      "source": [
        "#Resnet50"
      ]
    },
    {
      "cell_type": "code",
      "metadata": {
        "id": "NhuECtlN5Xe3"
      },
      "source": [
        "X_train=X_train.reshape(X_train.shape[0],int(X_train.shape[1]/4),int(X_train.shape[2]*4),X_train.shape[3])\n",
        "X_validation=X_validation.reshape(X_validation.shape[0],int(X_validation.shape[1]/4),int(X_validation.shape[2]*4),X_validation.shape[3])\n",
        "#X_test=X_test.reshape(X_test.shape[0],int(X_test.shape[1]/4),int(X_test.shape[2]*4),X_test.shape[3])\n",
        "\n",
        "input_shape = (X_train.shape[1], X_train.shape[2],  X_train.shape[3])\n",
        "\n",
        "RESNET50_MODEL=tf.keras.applications.ResNet50(input_shape=input_shape,\n",
        "                                               include_top=False,\n",
        "                                               weights='imagenet')\n",
        "RESNET50_MODEL.trainable=False\n",
        "global_average_layer = tf.keras.layers.GlobalAveragePooling2D()\n",
        "prediction_layer = tf.keras.layers.Dense(5,activation='softmax')\n",
        "model = tf.keras.Sequential([\n",
        "  RESNET50_MODEL,\n",
        "  global_average_layer,\n",
        "  prediction_layer\n",
        "])\n",
        "saved_model=\"resnet50_mfcc_13_2048_512.weights.hdf5\""
      ],
      "execution_count": null,
      "outputs": []
    },
    {
      "cell_type": "markdown",
      "metadata": {
        "id": "RAxRl4x35RGr"
      },
      "source": [
        "#Inceptionv3"
      ]
    },
    {
      "cell_type": "code",
      "metadata": {
        "id": "iX5gZAE6t4NX"
      },
      "source": [
        "X_train=X_train.reshape(X_train.shape[0],int(X_train.shape[1]/17),int(X_train.shape[2]*17),X_train.shape[3])\n",
        "X_validation=X_validation.reshape(X_validation.shape[0],int(X_validation.shape[1]/17),int(X_validation.shape[2]*17),X_validation.shape[3])\n",
        "#X_test=X_test.reshape(X_test.shape[0],int(X_test.shape[1]/4),int(X_test.shape[2]*4),X_test.shape[3])\n",
        "\n",
        "input_shape = (X_train.shape[1], X_train.shape[2],  X_train.shape[3])\n",
        "\n",
        "InceptionV3_MODEL=tf.keras.applications.InceptionV3(input_shape=input_shape,\n",
        "                                               include_top=False,\n",
        "                                               weights='imagenet')\n",
        "InceptionV3_MODEL.trainable=False\n",
        "global_average_layer = tf.keras.layers.GlobalAveragePooling2D()\n",
        "prediction_layer = tf.keras.layers.Dense(5,activation='softmax')\n",
        "model = tf.keras.Sequential([\n",
        "  InceptionV3_MODEL,\n",
        "  global_average_layer,\n",
        "  prediction_layer\n",
        "])\n",
        "saved_model=\"inceptionv3_MODEL_mfcc_13_2048_512.weights.hdf5\""
      ],
      "execution_count": null,
      "outputs": []
    },
    {
      "cell_type": "markdown",
      "metadata": {
        "id": "JMGtencCCsLM"
      },
      "source": [
        "#EfficientNetB7"
      ]
    },
    {
      "cell_type": "code",
      "metadata": {
        "id": "2sNBM-_uCRjB"
      },
      "source": [
        "X_train=X_train.reshape(X_train.shape[0],int(X_train.shape[1]/4),int(X_train.shape[2]*4),X_train.shape[3])\n",
        "X_validation=X_validation.reshape(X_validation.shape[0],int(X_validation.shape[1]/4),int(X_validation.shape[2]*4),X_validation.shape[3])\n",
        "#X_test=X_test.reshape(X_test.shape[0],int(X_test.shape[1]/4),int(X_test.shape[2]*4),X_test.shape[3])\n",
        "\n",
        "input_shape = (X_train.shape[1], X_train.shape[2],  X_train.shape[3])\n",
        "\n",
        "EfficientNetB7_MODEL=tf.keras.applications.EfficientNetB7(input_shape=input_shape,\n",
        "                                               include_top=False,\n",
        "                                               weights='imagenet')\n",
        "EfficientNetB7_MODEL.trainable=False\n",
        "global_average_layer = tf.keras.layers.GlobalAveragePooling2D()\n",
        "prediction_layer = tf.keras.layers.Dense(5,activation='softmax')\n",
        "model = tf.keras.Sequential([\n",
        "  EfficientNetB7_MODEL,\n",
        "  global_average_layer,\n",
        "  prediction_layer\n",
        "])\n",
        "saved_model=\"efficientNetB7_mfcc_13_2048_512.weights.hdf5\""
      ],
      "execution_count": null,
      "outputs": []
    },
    {
      "cell_type": "code",
      "metadata": {
        "id": "_7kmDIAEgQ9A"
      },
      "source": [
        "optimiser = keras.optimizers.Adam(learning_rate=0.0001)\n",
        "model.compile(optimizer=optimiser,\n",
        "                  loss='categorical_crossentropy',\n",
        "                  metrics=['accuracy'])\n",
        "checkpoint = ModelCheckpoint(weights_dir+saved_model, monitor='val_accuracy', verbose=1, save_best_only=True, mode='max')\n",
        "callbacks_list = [checkpoint]\n",
        "model.summary()"
      ],
      "execution_count": null,
      "outputs": []
    },
    {
      "cell_type": "code",
      "metadata": {
        "id": "cG0GLTrLhqgo"
      },
      "source": [
        "\n",
        "history = model.fit(X_train, y_train, validation_data=(X_validation, y_validation), batch_size=32, epochs=30, callbacks = callbacks_list, verbose=1)"
      ],
      "execution_count": null,
      "outputs": []
    },
    {
      "cell_type": "code",
      "metadata": {
        "id": "Z6nI8xqZ1nKN"
      },
      "source": [
        "model_loaded=tf.keras.models.load_model(weights_dir+\"cnn_3_class_stft.weights.hdf5\")\n",
        "#model_loaded.evaluate(X_test,y_test)"
      ],
      "execution_count": null,
      "outputs": []
    },
    {
      "cell_type": "code",
      "metadata": {
        "id": "xf5IPasQGqYd"
      },
      "source": [
        "model.save(model_dir+\"cnn2D_stft.h5\")"
      ],
      "execution_count": null,
      "outputs": []
    },
    {
      "cell_type": "code",
      "metadata": {
        "id": "yj8oz9jA3n3J"
      },
      "source": [
        "history = model.fit(X_train_reshaped, y_train, \n",
        "                    validation_split=0.1,\n",
        "                    epochs=60,\n",
        "                    verbose=1,\n",
        "                    callbacks=[checkpoint])"
      ],
      "execution_count": null,
      "outputs": []
    },
    {
      "cell_type": "code",
      "metadata": {
        "id": "iOsLiFsqh-Jx"
      },
      "source": [
        "X_test_reshaped=np.reshape(X_test,newshape=(X_test.shape[0],X_test.shape[1],X_test.shape[2],1))\n",
        "pickle.dump(X_test, open(test_dir+\"X_test_stffs_cnn2D.pkl\",'wb'))\n",
        "pickle.dump(y_test, open(test_dir+\"y_test_stffs_cnn2D.pkl\",'wb'))\n"
      ],
      "execution_count": null,
      "outputs": []
    },
    {
      "cell_type": "code",
      "metadata": {
        "id": "gy6AEFncSkFV"
      },
      "source": [
        "plt.plot(history.history['acc'])\n",
        "plt.plot(history.history['val_acc'])\n",
        "plt.title('model accuracy')\n",
        "plt.ylabel('accuracy')\n",
        "plt.xlabel('epoch')\n",
        "plt.legend(['train', 'val'], loc='upper left')\n",
        "plt.show()"
      ],
      "execution_count": null,
      "outputs": []
    },
    {
      "cell_type": "code",
      "metadata": {
        "id": "xBVInT7zTdl6"
      },
      "source": [
        "plt.plot(history.history['loss'])\n",
        "plt.plot(history.history['val_loss'])\n",
        "plt.title('model loss')\n",
        "plt.ylabel('loss')\n",
        "plt.xlabel('epoch')\n",
        "plt.legend(['train', 'val'], loc='upper left')\n",
        "plt.show()"
      ],
      "execution_count": null,
      "outputs": []
    },
    {
      "cell_type": "code",
      "metadata": {
        "id": "CfZL9657kJze"
      },
      "source": [
        ""
      ],
      "execution_count": null,
      "outputs": []
    }
  ]
}