{
  "nbformat": 4,
  "nbformat_minor": 0,
  "metadata": {
    "accelerator": "GPU",
    "colab": {
      "name": "Preprocess Audio with Python.ipynb",
      "private_outputs": true,
      "provenance": [],
      "collapsed_sections": [],
      "include_colab_link": true
    },
    "kernelspec": {
      "display_name": "Python 3",
      "language": "python",
      "name": "python3"
    },
    "language_info": {
      "codemirror_mode": {
        "name": "ipython",
        "version": 3
      },
      "file_extension": ".py",
      "mimetype": "text/x-python",
      "name": "python",
      "nbconvert_exporter": "python",
      "pygments_lexer": "ipython3",
      "version": "3.6.9"
    }
  },
  "cells": [
    {
      "cell_type": "markdown",
      "metadata": {
        "id": "view-in-github",
        "colab_type": "text"
      },
      "source": [
        "<a href=\"https://colab.research.google.com/github/Rafi-ur-Rashid/Audio-News-Classification/blob/main/Preprocess_Audio_with_Python.ipynb\" target=\"_parent\"><img src=\"https://colab.research.google.com/assets/colab-badge.svg\" alt=\"Open In Colab\"/></a>"
      ]
    },
    {
      "cell_type": "code",
      "metadata": {
        "id": "UCLnCnCOyDeu"
      },
      "source": [
        "from google.colab import drive\n",
        "drive.mount('/content/drive')"
      ],
      "execution_count": null,
      "outputs": []
    },
    {
      "cell_type": "code",
      "metadata": {
        "id": "d8nnVLP-xpj-"
      },
      "source": [
        "import os\n",
        "import librosa\n",
        "import librosa.display\n",
        "import IPython.display as ipd\n",
        "import numpy as np\n",
        "import matplotlib.pyplot as plt\n",
        "import pickle\n",
        "import math\n",
        "import subprocess\n",
        "import sys\n",
        "from os import path\n",
        "from keras.utils import to_categorical\n",
        "RANDOM_SEED=2245\n",
        "from numpy.random import seed\n",
        "seed(RANDOM_SEED)\n",
        "from sklearn.utils import shuffle"
      ],
      "execution_count": null,
      "outputs": []
    },
    {
      "cell_type": "markdown",
      "metadata": {
        "id": "IO4Ysg7Wc4rE"
      },
      "source": [
        "Renaming Files"
      ]
    },
    {
      "cell_type": "code",
      "metadata": {
        "id": "o4cVG1TOaJwU"
      },
      "source": [
        "cd C:\\\\ML\\\\audio_news\\\\corpus\\\\entertainment\n",
        "\n",
        "upto= 725\n",
        "for i in range(1,upto+1):\n",
        "  try:  \n",
        "    os.rename(str(i)+'.m4a.wav.mp3', str(i)+'.mp3')\n",
        "  except (FileNotFoundError):\n",
        "    continue"
      ],
      "execution_count": null,
      "outputs": []
    },
    {
      "cell_type": "markdown",
      "metadata": {
        "id": "djQqEpS8xpj_"
      },
      "source": [
        "## Loading audio files with Librosa"
      ]
    },
    {
      "cell_type": "code",
      "metadata": {
        "id": "e41J2h4Wxpj_"
      },
      "source": [
        "corpus_path=r\"C:\\\\ML\\\\audio_news\\\\corpus\\\\\"\n",
        "preprocess_path=r\"C:\\\\ML\\\\audio_news\\\\preprocessed-shuffled\\\\\"\n",
        "sampled_path=preprocess_path+r\"sampled\\\\\"\n",
        "\n",
        "national_f = corpus_path+r\"national\\\\\"\n",
        "international_f = corpus_path+r\"international\\\\\"\n",
        "sports_f = corpus_path+r\"sports\\\\\"\n",
        "entertainment_f = corpus_path+r\"entertainment\\\\\"\n",
        "economics_f = corpus_path+r\"economics\\\\\"\n",
        "\n",
        "\n",
        "FRAME_SIZE = 2048\n",
        "HOP_SIZE = 512\n",
        "sr_=22050\n",
        "segment_duration=30\n",
        "sample_per_segment=sr_*segment_duration"
      ],
      "execution_count": null,
      "outputs": []
    },
    {
      "cell_type": "code",
      "metadata": {
        "id": "6GC_9l2SwQ8j"
      },
      "source": [
        "cd C:\\ML\\audio_news\\preprocessed-shuffled\\sampled\\train"
      ],
      "execution_count": null,
      "outputs": []
    },
    {
      "cell_type": "markdown",
      "metadata": {
        "id": "qliqsyILxpkK"
      },
      "source": [
        "## Calculating the spectrogram"
      ]
    },
    {
      "cell_type": "code",
      "metadata": {
        "id": "1lEb8r4ZqI5N"
      },
      "source": [
        "national_sampled=[]\n",
        "international_sampled=[]\n",
        "economics_sampled=[]\n",
        "sports_sampled=[]\n",
        "entertainments_sampled=[]"
      ],
      "execution_count": null,
      "outputs": []
    },
    {
      "cell_type": "code",
      "metadata": {
        "id": "KFmAHs7goX3c"
      },
      "source": [
        "t=[]\n",
        "for i in range(500):\n",
        "  try:  \n",
        "    x=open(\"/content/drive/My Drive/Colab Notebooks/Audio classification/sampled/national_\"+str(i+1)+\".pkl\",'rb')\n",
        "    t.append(i+1)\n",
        "  except:\n",
        "    print(i+1)"
      ],
      "execution_count": null,
      "outputs": []
    },
    {
      "cell_type": "code",
      "metadata": {
        "id": "GcLbE70ajZcs"
      },
      "source": [
        "cd C:\\ML\\audio_news\\preprocessed-shuffled\\sampled\\train"
      ],
      "execution_count": null,
      "outputs": []
    },
    {
      "cell_type": "code",
      "metadata": {
        "id": "K2yxdJVv18LA"
      },
      "source": [
        "N_MFCC=13\n",
        "\n",
        "feature_array=[]\n",
        "count=0\n",
        "Y=[]\n",
        "lables=[\"national\",\"international\",\"economics\",\"sports\",\"entertainment\"]\n",
        "\n",
        "def get_lable(fname):\n",
        "    for i in range(len(lables)):\n",
        "      if lables[i] in fname:\n",
        "        Y.append(i)\n",
        "        break\n",
        "\n",
        "\n",
        "for fname in os.listdir(os.getcwd()):\n",
        "  offset_=0.0\n",
        "  try:\n",
        "    #if (os.stat(str(i)+\".mp3\").st_size/1000000) >4.0:\n",
        "      #offset_=5.0\n",
        "    #y, _ = librosa.load(str(i)+\".mp3\",sr=sr_, offset=offset_)\n",
        "    #pickle.dump(y,open(sampled_path+\"sports\\\\\"+ str(i)+\".pkl\",\"wb\"))\n",
        "    y=pickle.load(open(os.path.join(os.getcwd(), fname), \"rb\"))\n",
        "    dur=int(librosa.get_duration(y=y, sr=sr_))\n",
        "    num_segments=math.ceil(dur/segment_duration);\n",
        "    samples_per_segment = segment_duration*sr_;\n",
        "    num_mfcc_vectors_per_segment = math.ceil(samples_per_segment / HOP_SIZE)\n",
        "    count=count+1\n",
        "    print(\"track \"+ str(count));\n",
        "    \n",
        "    for d in range(num_segments):\n",
        "      start = samples_per_segment * d\n",
        "      finish = start + samples_per_segment\n",
        "      mfcc = librosa.feature.mfcc(y[start:finish], sr_, n_mfcc=N_MFCC, n_fft=FRAME_SIZE, hop_length=HOP_SIZE)\n",
        "      \n",
        "      if mfcc.shape[1]<num_mfcc_vectors_per_segment:\n",
        "        mfcc_temp=np.zeros(shape=(N_MFCC, num_mfcc_vectors_per_segment));\n",
        "        mfcc_temp[:mfcc.shape[0],:mfcc.shape[1]] = mfcc\n",
        "        mfcc=mfcc_temp\n",
        "        \n",
        "      mfcc = mfcc.T\n",
        "      feature_array.append(mfcc)\n",
        "      get_lable(fname)\n",
        "  \n",
        "  except (FileNotFoundError):\n",
        "    continue\n",
        "feature_array=np.array(feature_array)\n",
        "feature_array.shape"
      ],
      "execution_count": null,
      "outputs": []
    },
    {
      "cell_type": "code",
      "metadata": {
        "id": "uBak87n_o7XR"
      },
      "source": [
        "N_MEL=10\n",
        "\n",
        "feature_array=[]\n",
        "\n",
        "FROM=1\n",
        "UPTO=4000\n",
        "\n",
        "for i in range(FROM,UPTO+1):\n",
        "  offset_=0.0\n",
        "  try:\n",
        "    #if (os.stat(str(i)+\".mp3\").st_size/1000000) >4.0:\n",
        "      #offset_=5.0\n",
        "    #y, _ = librosa.load(str(i)+\".mp3\",sr=sr_, offset=offset_)\n",
        "    #pickle.dump(y,open(sampled_path+\"sports\\\\\"+ str(i)+\".pkl\",\"wb\"))\n",
        "    y=pickle.load(open(sampled_path+\"sports\\\\\"+ str(i)+\".pkl\",\"rb\"))\n",
        "    dur=int(librosa.get_duration(y=y, sr=sr_))\n",
        "    num_segments=math.ceil(dur/segment_duration);\n",
        "    samples_per_segment = segment_duration*sr_;\n",
        "    num_mel_vectors_per_segment = math.ceil(samples_per_segment / HOP_SIZE)\n",
        "    #print(\"track \"+ str(i));\n",
        "    for d in range(num_segments):\n",
        "      start = samples_per_segment * d\n",
        "      finish = start + samples_per_segment\n",
        "      mel = librosa.feature.melspectrogram(y[start:finish], sr_, n_fft=FRAME_SIZE, hop_length=HOP_SIZE,n_mels=N_MEL)\n",
        "      \n",
        "      if mel.shape[1]<num_mel_vectors_per_segment:\n",
        "        mel_temp=np.zeros(shape=(N_MEL, num_mel_vectors_per_segment));\n",
        "        mel_temp[:mel.shape[0],:mel.shape[1]] = mel\n",
        "        mel=mel_temp\n",
        "      mel=mel.T\n",
        "      feature_array.append(mel)\n",
        "  \n",
        "  except (FileNotFoundError):\n",
        "    continue\n",
        "feature_array=np.array(feature_array)\n",
        "feature_array.shape"
      ],
      "execution_count": null,
      "outputs": []
    },
    {
      "cell_type": "code",
      "metadata": {
        "id": "yw5KOI7Q43zT"
      },
      "source": [
        "y_labels_one_hot = to_categorical(Y)\n",
        "data_shuffled, labels_shuffled = shuffle(feature_array, y_labels_one_hot,random_state=RANDOM_SEED)"
      ],
      "execution_count": null,
      "outputs": []
    },
    {
      "cell_type": "code",
      "metadata": {
        "id": "P4ZeZIxvDW2b"
      },
      "source": [
        "data_shuffled.shape"
      ],
      "execution_count": null,
      "outputs": []
    },
    {
      "cell_type": "code",
      "metadata": {
        "id": "zLfAl8tinH37"
      },
      "source": [
        "pickle.dump(data_shuffled,open(preprocess_path+\"mfccs\\\\train_13_2048_512.pkl\",\"wb\"))\n",
        "\n",
        "pickle.dump(labels_shuffled,open(preprocess_path+\"lables\\\\train.pkl\",\"wb\"))"
      ],
      "execution_count": null,
      "outputs": []
    },
    {
      "cell_type": "code",
      "metadata": {
        "id": "nZVOk4ww4AW1"
      },
      "source": [
        "cd C:\\ML\\audio_news\\preprocessed-shuffled\\sampled\\train"
      ],
      "execution_count": null,
      "outputs": []
    },
    {
      "cell_type": "code",
      "metadata": {
        "id": "EGL0dk-L1sxn"
      },
      "source": [
        "data=pickle.load(open(preprocess_path+\"mfccs\\\\train_13_2048_512.pkl\",\"rb\"))\n",
        "lables=pickle.load(open(preprocess_path+\"lables\\\\train.pkl\",\"rb\"))"
      ],
      "execution_count": null,
      "outputs": []
    },
    {
      "cell_type": "code",
      "metadata": {
        "id": "LcnOT8p_27MJ"
      },
      "source": [
        "lables.shape"
      ],
      "execution_count": null,
      "outputs": []
    },
    {
      "cell_type": "code",
      "metadata": {
        "id": "qVWL21hWHM-i"
      },
      "source": [
        "y_labels_one_hot.shape"
      ],
      "execution_count": null,
      "outputs": []
    },
    {
      "cell_type": "code",
      "metadata": {
        "id": "_z6f1QLwZJBz"
      },
      "source": [
        " m count=451\n",
        "for s in national_sampled:\n",
        "  pickle.dump(s,open(\"/content/drive/My Drive/Colab Notebooks/Audio classification/sampled/entertainment_\"+str(count)+\".pkl\",\"wb\"))  \n",
        "  count+=1\n",
        "#national_sampled=np.array(national_sampled)\n",
        "#pickle.dump(national_sampled,open(\"/content/drive/My Drive/Colab Notebooks/Audio classification/sampled/national_sampled.pkl\",\"wb\"))"
      ],
      "execution_count": null,
      "outputs": []
    },
    {
      "cell_type": "code",
      "metadata": {
        "id": "MOxBq31ej5Br"
      },
      "source": [
        "qnational_stft.shape"
      ],
      "execution_count": null,
      "outputs": []
    },
    {
      "cell_type": "code",
      "metadata": {
        "id": "VLmL-nVbw5aG"
      },
      "source": [
        "#national_stft=np.array(national_stft)\n",
        "print(national_stft.shape)\n",
        "pickle.dump(national_stft,open(\"/content/drive/My Drive/Colab Notebooks/Audio classification/stfts/sports_stft.pkl\",\"wb\"))"
      ],
      "execution_count": null,
      "outputs": []
    },
    {
      "cell_type": "code",
      "metadata": {
        "id": "wAr1YWZlddlS"
      },
      "source": [
        "temp=pickle.load(open(\"/content/drive/My Drive/Colab Notebooks/Audio classification/stft/national_stft.pkl\",\"rb\"))\n",
        "temp.shape"
      ],
      "execution_count": null,
      "outputs": []
    },
    {
      "cell_type": "code",
      "metadata": {
        "id": "8qEGd31t0aKM"
      },
      "source": [
        "for i in range(1,UPTO+1):\n",
        "  print(i)\n",
        "  offset_=0.0\n",
        "  try:\n",
        "    if (os.stat(international_f+str(i)+'.m4a').st_size/1000000) >3.0:\n",
        "      offset_=45.0\n",
        "    y, _ = librosa.load(international_f+str(i)+'.m4a',sr=sr_,offset=offset_, duration=duration_)\n",
        "    S_y = librosa.stft(y, n_fft=FRAME_SIZE, hop_length=HOP_SIZE)\n",
        "    abs_y = np.abs(S_y) ** 2\n",
        "    log_y = librosa.power_to_db(abs_y)\n",
        "    international_stft.append(log_y)\n",
        "  except:\n",
        "    continue"
      ],
      "execution_count": null,
      "outputs": []
    },
    {
      "cell_type": "code",
      "metadata": {
        "id": "1A4Mhivf5hIo"
      },
      "source": [
        "international_stft=np.array(international_stft)\n",
        "pickle.dump(international_stft,open(\"/content/drive/My Drive/Colab Notebooks/Audio classification/international_stft.pkl\",\"wb\"))"
      ],
      "execution_count": null,
      "outputs": []
    },
    {
      "cell_type": "markdown",
      "metadata": {
        "id": "iP0qbWrdxpkL"
      },
      "source": [
        "## Visualizing the spectrogram"
      ]
    },
    {
      "cell_type": "code",
      "metadata": {
        "id": "LQdS273TxpkL"
      },
      "source": [
        "def plot_spectrogram(Y, sr, hop_length, y_axis=\"linear\"):\n",
        "    plt.figure(figsize=(25, 10))\n",
        "    librosa.display.specshow(Y, \n",
        "                             sr=sr, \n",
        "                             hop_length=hop_length, \n",
        "                             x_axis=\"time\", \n",
        "                             y_axis=y_axis)\n",
        "    plt.colorbar(format=\"%+2.f\")"
      ],
      "execution_count": null,
      "outputs": []
    },
    {
      "cell_type": "markdown",
      "metadata": {
        "id": "v6OH4cTJxpkL"
      },
      "source": [
        "## Log-Frequency Spectrogram"
      ]
    },
    {
      "cell_type": "code",
      "metadata": {
        "id": "3PYn8StqxpkL"
      },
      "source": [
        "plot_spectrogram(national_stft[0], sr_, HOP_SIZE, y_axis=\"log\")"
      ],
      "execution_count": null,
      "outputs": []
    },
    {
      "cell_type": "markdown",
      "metadata": {
        "id": "QcX-5jn9xPgU"
      },
      "source": [
        "## Calculating the Mel spectrogram"
      ]
    },
    {
      "cell_type": "code",
      "metadata": {
        "id": "OqFO_YJfp1l3"
      },
      "source": [
        "national_mel=[]\n",
        "international_mel=[]\n",
        "economics_mel=[]\n",
        "sports_mel=[]\n",
        "entertainments_mel=[]\n",
        "\n",
        "national_fb=[]\n",
        "international_fb=[]\n",
        "economics_fb=[]\n",
        "sports_fb=[]\n",
        "entertainments_fb=[]\n",
        "\n",
        "UPTO=1\n",
        "\n",
        "for i in range(1,UPTO+1):\n",
        "  print(i)\n",
        "  try:\n",
        "    y = national_sampled[i-1]\n",
        "    fb_y = librosa.filters.mel(n_fft=FRAME_SIZE, sr=sr_, n_mels=15)\n",
        "    S_y = librosa.feature.melspectrogram(y, sr=sr_, n_fft=FRAME_SIZE, hop_length=HOP_SIZE, n_mels=90)\n",
        "    log_y = librosa.power_to_db(S_y)\n",
        "  except:\n",
        "    continue\n",
        "  else:\n",
        "    national_fb.append(fb_y)\n",
        "    national_mel.append(log_y)"
      ],
      "execution_count": null,
      "outputs": []
    },
    {
      "cell_type": "code",
      "metadata": {
        "id": "9aeA7RN3tdLa"
      },
      "source": [
        "np.array(national_fb).shape\n",
        "plt.figure(figsize=(25, 10))\n",
        "librosa.display.specshow(national_fb[0], \n",
        "                         sr=sr_, \n",
        "                         x_axis=\"linear\")\n",
        "plt.colorbar(format=\"%+2.f\")\n",
        "plt.show()"
      ],
      "execution_count": null,
      "outputs": []
    },
    {
      "cell_type": "code",
      "metadata": {
        "id": "bMiyKBvZtn0h"
      },
      "source": [
        "plot_spectrogram(national_mel[0], sr_, HOP_SIZE, y_axis=\"mel\")"
      ],
      "execution_count": null,
      "outputs": []
    },
    {
      "cell_type": "code",
      "metadata": {
        "id": "fIoSTMD3vHwb"
      },
      "source": [
        ""
      ],
      "execution_count": null,
      "outputs": []
    }
  ]
}